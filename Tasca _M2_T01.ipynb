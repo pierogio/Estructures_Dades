{
 "cells": [
  {
   "cell_type": "markdown",
   "id": "5c46fc7a",
   "metadata": {},
   "source": [
    "- Exercici 1\n",
    "Crea una llista que agrupi els mesos de l’any en trimestres (1T: gener, febrer i març; 2T: abril, maig, juny...), és a dir, una llista amb 4 llistes dins."
   ]
  },
  {
   "cell_type": "code",
   "execution_count": null,
   "id": "e1c74e4f",
   "metadata": {},
   "outputs": [],
   "source": [
    "meses=[[\"enero\", \"febrero\", \"marzo\"],[\"abril\", \"mayo\", \"junio\"],[\"julio\", \"agosto\", \"septiembre\"],[\"octubre\", \"noviembre\",\"diciembre\"]]"
   ]
  },
  {
   "cell_type": "markdown",
   "id": "6f82332a",
   "metadata": {},
   "source": [
    "- Exercici 2\n",
    "Crea un codi que et permeti accedir a:\n",
    "El segon mes del primer trimestre.\n",
    "Els mesos del primer trimestre.\n",
    "Setembre i octubre."
   ]
  },
  {
   "cell_type": "code",
   "execution_count": 1,
   "id": "04518666",
   "metadata": {},
   "outputs": [
    {
     "name": "stdout",
     "output_type": "stream",
     "text": [
      "febrero , ['enero', 'febrero', 'marzo'] , septiembre , octubre\n"
     ]
    }
   ],
   "source": [
    "meses=[[\"enero\", \"febrero\", \"marzo\"],[\"abril\", \"mayo\", \"junio\"],[\"julio\", \"agosto\", \"septiembre\"],[\"octubre\", \"noviembre\",\"diciembre\"]]\n",
    "\n",
    "print(meses[0][1],\",\",meses[0],\",\", meses[2][2],\",\",meses[3][0])   \n"
   ]
  },
  {
   "cell_type": "markdown",
   "id": "b60fed02",
   "metadata": {},
   "source": [
    "- Exercici 3\n",
    "Crea una llista amb nombres desordenats i respon a les següents preguntes:\n",
    "Quants números hi ha?\n",
    "Quantes vegades apareix el número 3.\n",
    "Quantes vegades apareixen els nombres 3 i 4?\n",
    "Quin és el número més gran?\n",
    "Quins són els 3 números més petits?\n",
    "Quin és el rang d’aquesta llista?"
   ]
  },
  {
   "cell_type": "code",
   "execution_count": 7,
   "id": "5073e18f",
   "metadata": {},
   "outputs": [
    {
     "name": "stdout",
     "output_type": "stream",
     "text": [
      "en la lista hay:  8  elementos\n",
      "el numero 3 aparece  2  veces\n",
      "los numero 3 y 4 aparecen  3  veces en total\n",
      "el numero mayor es:  78\n",
      "los 3 mas pequeños son:  [1, 3, 3]\n",
      "los 3 mas pequeños son:  [1, 3, 4]\n",
      "el rango es 8: \n",
      "0 1 2 3 4 5 6 7 range(0, 8)\n",
      "el rango es:  77\n"
     ]
    }
   ],
   "source": [
    "import heapq\n",
    "\n",
    "numeros=[1,3,56,22,4,78,23,3]\n",
    "\n",
    "print(\"en la lista hay: \",len(numeros),\" elementos\")\n",
    "print(\"el numero 3 aparece \", numeros.count(3),\" veces\")\n",
    "print(\"los numero 3 y 4 aparecen \", numeros.count(4) + numeros.count(3),\" veces en total\")\n",
    "print(\"el numero mayor es: \", max(numeros))\n",
    "print(\"los 3 mas pequeños son: \", heapq.nsmallest(3,numeros))#opcion 1\n",
    "lista2=[]\n",
    "numeros.sort()\n",
    "\n",
    "for i in numeros:\n",
    "    if i not in lista2:\n",
    "        lista2.append(i)\n",
    "    \n",
    "print(\"los 3 mas pequeños son: \", lista2[0:3])#opcion2\n",
    "\n",
    "print(\"el rango es 8: \")#opcion 1\n",
    "for i in range(len(numeros)):\n",
    "    print(i, end=\" \")\n",
    "print(range(len(numeros)))\n",
    "\n",
    "print(\"el rango es: \", numeros[-1]-numeros[0])#opcion2\n"
   ]
  },
  {
   "cell_type": "markdown",
   "id": "3f4ed326",
   "metadata": {},
   "source": [
    "- Exercici 4\n",
    "Crea un diccionari de la següent forma i respon a les preguntes:\n",
    "compra = { \"Pomes\" : {\"Qty\": 5, \"€\": 0.42}, \"Peres\" : {\"Qty\": 3, \"€\": 0.66} }\n",
    "Afegeix alguna fruita més\n",
    "Quant han costat les peres en total?\n",
    "Quantes fruites hem comprat en total?\n",
    "Quina és la fruita més cara?"
   ]
  },
  {
   "cell_type": "code",
   "execution_count": 5,
   "id": "91825187",
   "metadata": {},
   "outputs": [
    {
     "name": "stdout",
     "output_type": "stream",
     "text": [
      "las peras han costado 1.98 euros\n"
     ]
    }
   ],
   "source": [
    "compra = { \"Pomes\" : {\"Qty\": 5, \"€\": 0.42}, \"Peres\" : {\"Qty\": 3, \"€\": 0.66} }\n",
    "compra[\"Bananas\"]={\"Qty\": 4, \"€\": 0.50}\n",
    "\n",
    "peras=compra[\"Peres\"].values()\n",
    "result=1\n",
    "for i in peras:\n",
    "    result=result*i   \n",
    "    \n",
    "print(\"las peras han costado\", result,\"euros\")"
   ]
  },
  {
   "cell_type": "code",
   "execution_count": 49,
   "id": "2788f6e1",
   "metadata": {},
   "outputs": [
    {
     "name": "stdout",
     "output_type": "stream",
     "text": [
      "en total hemos comprado  12 piezas de fruta\n"
     ]
    }
   ],
   "source": [
    "compra = { \"Pomes\" : {\"Qty\": 5, \"€\": 0.42}, \"Peres\" : {\"Qty\": 3, \"€\": 0.66} }\n",
    "compra[\"Bananas\"]={\"Qty\": 4, \"€\": 0.50}\n",
    "\n",
    "total=[]\n",
    "for product, value in compra.items():\n",
    "    total.append(value['Qty'])\n",
    "    \n",
    "print(\"en total hemos comprado \", sum(total), \"piezas de fruta\")"
   ]
  },
  {
   "cell_type": "code",
   "execution_count": 210,
   "id": "c8399827",
   "metadata": {},
   "outputs": [
    {
     "name": "stdout",
     "output_type": "stream",
     "text": [
      "Total amount Pomes:\n",
      "2.1\n",
      "Total amount Peres:\n",
      "1.98\n",
      "Total amount Bananas:\n",
      "2.0\n"
     ]
    }
   ],
   "source": [
    "compra = { \"Pomes\" : {\"Qty\": 5, \"€\": 0.42}, \"Peres\" : {\"Qty\": 3, \"€\": 0.66} }\n",
    "compra[\"Bananas\"]={\"Qty\": 4, \"€\": 0.50}\n",
    "\n",
    "for elem, value in compra.items():\n",
    "    print(f\"Total amount {elem}:\")\n",
    "    print(value['Qty'] * value['€'])"
   ]
  },
  {
   "cell_type": "code",
   "execution_count": 54,
   "id": "ae3310c6",
   "metadata": {},
   "outputs": [
    {
     "name": "stdout",
     "output_type": "stream",
     "text": [
      "las frutas mas cara son las  Peres con un precio de  0.66 por unidad\n"
     ]
    }
   ],
   "source": [
    "compra = { \"Pomes\" : {\"Qty\": 5, \"€\": 0.42}, \"Peres\" : {\"Qty\": 3, \"€\": 0.66} }\n",
    "compra[\"Bananas\"]={\"Qty\": 4, \"€\": 0.50}\n",
    "\n",
    "precio_max= max([float(i[\"€\"]) for i in compra.values()])\n",
    "\n",
    "for elem, value in compra.items():\n",
    "    if value['€']==precio_max:\n",
    "        print(\"las frutas mas cara son las \",elem, \"con un precio de \",value['€'],\"por unidad\")"
   ]
  },
  {
   "cell_type": "code",
   "execution_count": null,
   "id": "8130457c",
   "metadata": {},
   "outputs": [],
   "source": []
  }
 ],
 "metadata": {
  "kernelspec": {
   "display_name": "Python 3 (ipykernel)",
   "language": "python",
   "name": "python3"
  },
  "language_info": {
   "codemirror_mode": {
    "name": "ipython",
    "version": 3
   },
   "file_extension": ".py",
   "mimetype": "text/x-python",
   "name": "python",
   "nbconvert_exporter": "python",
   "pygments_lexer": "ipython3",
   "version": "3.9.16"
  }
 },
 "nbformat": 4,
 "nbformat_minor": 5
}
